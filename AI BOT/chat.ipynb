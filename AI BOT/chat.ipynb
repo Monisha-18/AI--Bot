{
 "cells": [
  {
   "cell_type": "code",
   "execution_count": 9,
   "metadata": {},
   "outputs": [
    {
     "name": "stdout",
     "output_type": "stream",
     "text": [
      "Question 1: Data abstraction is a technique used in computer programming to separate the implementation details of a data type from its interface, allowing the implementation to be changed without affecting the code that uses it. ADTs are a technique used in computer programming to separate the implementation details of a data type from its interface, allowing the implementation to be changed without affecting the code that uses it. Data abstraction helps to reduce the complexity of software systems by allowing code to be\n",
      "Question 2: Data abstraction is a technique used in computer programming to separate the implementation details of a data type from its interface, allowing the implementation to be changed without affecting the code that uses it. ADTs are a technique used in computer programming to separate the implementation details of a data type from its interface, allowing the implementation to be changed without affecting the code that uses it. Data abstraction is a technique used in computer programming to separate the implementation details of\n",
      "Question 3: Data abstraction is a technique used in computer programming to separate implementation details of a data type from its interface, allowing the implementation to be changed without affecting the code that uses it. ADTs are a technique used in computer programming to separate the implementation details of a data type from its interface, allowing the implementation to be changed without affecting the code that uses it. Data abstraction is a technique used in computer programming to separate the implementation details of\n"
     ]
    }
   ],
   "source": [
    "from transformers import T5ForConditionalGeneration, T5Tokenizer\n",
    "\n",
    "# Load pre-trained T5 model and tokenizer\n",
    "model = T5ForConditionalGeneration.from_pretrained('bot_model')\n",
    "tokenizer = T5Tokenizer.from_pretrained('bot_model')\n",
    "\n",
    "def generate_questions(text, num_questions=3):\n",
    "    input_text = \"generate questions: \" + text + \" </s>\"\n",
    "    encoding = tokenizer.encode(input_text, return_tensors=\"pt\")\n",
    "    \n",
    "    # Generate questions\n",
    "    output = model.generate(encoding, max_length=100, num_beams=5, num_return_sequences=num_questions, early_stopping=True)\n",
    "    \n",
    "    questions = [tokenizer.decode(out, skip_special_tokens=True) for out in output]\n",
    "    return questions\n",
    "\n",
    "# Example usage\n",
    "context = \"The Eiffel Tower is one of the most famous landmarks in the world, located in Paris, France. It was constructed in 1889.\"\n",
    "questions = generate_questions(context, num_questions=3)\n",
    "for i, question in enumerate(questions, 1):\n",
    "    print(f\"Question {i}: {question}\")\n"
   ]
  },
  {
   "cell_type": "markdown",
   "metadata": {},
   "source": []
  },
  {
   "cell_type": "code",
   "execution_count": 10,
   "metadata": {},
   "outputs": [
    {
     "name": "stdout",
     "output_type": "stream",
     "text": [
      "Similarity Score: 0.9784480929374695\n",
      "The answer is correct.\n"
     ]
    }
   ],
   "source": [
    "from sentence_transformers import SentenceTransformer, util\n",
    "\n",
    "# Load pre-trained Sentence-BERT model\n",
    "model = SentenceTransformer('paraphrase-MiniLM-L6-v2')\n",
    "\n",
    "def verify_answer(user_answer, correct_answer):\n",
    "    # Encode sentences\n",
    "    user_embedding = model.encode(user_answer, convert_to_tensor=True)\n",
    "    correct_embedding = model.encode(correct_answer, convert_to_tensor=True)\n",
    "    \n",
    "    # Compute cosine similarity\n",
    "    similarity = util.pytorch_cos_sim(user_embedding, correct_embedding)\n",
    "    \n",
    "    # Return the similarity score\n",
    "    return similarity.item()\n",
    "\n",
    "# Example usage\n",
    "correct_answer = \"The Eiffel Tower was constructed in 1889 in Paris, France.\"\n",
    "user_answer = \"The Eiffel Tower was built in 1889 in Paris.\"\n",
    "\n",
    "similarity_score = verify_answer(user_answer, correct_answer)\n",
    "print(f\"Similarity Score: {similarity_score}\")\n",
    "\n",
    "if similarity_score > 0.7:  # Threshold for accepting the answer\n",
    "    print(\"The answer is correct.\")\n",
    "else:\n",
    "    print(\"The answer is incorrect.\")\n"
   ]
  },
  {
   "cell_type": "code",
   "execution_count": 8,
   "metadata": {},
   "outputs": [
    {
     "name": "stdout",
     "output_type": "stream",
     "text": [
      "Question 1: questions: The Eiffel Tower is one of the most famous landmarks in the world, located in Paris, France.\n",
      "Question 2: ask questions: The Eiffel Tower is one of the most famous landmarks in the world, located in Paris, France.\n",
      "Question 3: raises questions: The Eiffel Tower is one of the most famous landmarks in the world, located in Paris, France.\n",
      "Similarity Score: 0.9784480929374695\n",
      "The answer is correct.\n"
     ]
    }
   ],
   "source": [
    "class AIBot:\n",
    "    def __init__(self):\n",
    "        # Load models\n",
    "        self.qg_model = T5ForConditionalGeneration.from_pretrained('t5-small')\n",
    "        self.qg_tokenizer = T5Tokenizer.from_pretrained('t5-small')\n",
    "        self.answer_verifier = SentenceTransformer('paraphrase-MiniLM-L6-v2')\n",
    "    \n",
    "    def generate_questions(self, text, num_questions=3):\n",
    "        input_text = \"generate questions: \" + text + \" </s>\"\n",
    "        encoding = self.qg_tokenizer.encode(input_text, return_tensors=\"pt\")\n",
    "        \n",
    "        output = self.qg_model.generate(encoding, max_length=100, num_beams=5, num_return_sequences=num_questions, early_stopping=True)\n",
    "        questions = [self.qg_tokenizer.decode(out, skip_special_tokens=True) for out in output]\n",
    "        return questions\n",
    "    \n",
    "    def verify_answer(self, user_answer, correct_answer):\n",
    "        # Encode answers\n",
    "        user_embedding = self.answer_verifier.encode(user_answer, convert_to_tensor=True)\n",
    "        correct_embedding = self.answer_verifier.encode(correct_answer, convert_to_tensor=True)\n",
    "        \n",
    "        # Compute cosine similarity\n",
    "        similarity = util.pytorch_cos_sim(user_embedding, correct_embedding)\n",
    "        return similarity.item()\n",
    "\n",
    "# Instantiate the bot\n",
    "bot = AIBot()\n",
    "\n",
    "# Example passage\n",
    "context = \"The Eiffel Tower is one of the most famous landmarks in the world, located in Paris, France. It was constructed in 1889.\"\n",
    "\n",
    "# Generate questions\n",
    "questions = bot.generate_questions(context, num_questions=3)\n",
    "for i, question in enumerate(questions, 1):\n",
    "    print(f\"Question {i}: {question}\")\n",
    "\n",
    "# Verify an answer\n",
    "user_answer = \"The Eiffel Tower was built in 1889 in Paris.\"\n",
    "correct_answer = \"The Eiffel Tower was constructed in 1889 in Paris, France.\"\n",
    "\n",
    "similarity_score = bot.verify_answer(user_answer, correct_answer)\n",
    "print(f\"Similarity Score: {similarity_score}\")\n",
    "\n",
    "if similarity_score > 0.7:\n",
    "    print(\"The answer is correct.\")\n",
    "else:\n",
    "    print(\"The answer is incorrect.\")\n"
   ]
  }
 ],
 "metadata": {
  "kernelspec": {
   "display_name": "Python 3",
   "language": "python",
   "name": "python3"
  },
  "language_info": {
   "codemirror_mode": {
    "name": "ipython",
    "version": 3
   },
   "file_extension": ".py",
   "mimetype": "text/x-python",
   "name": "python",
   "nbconvert_exporter": "python",
   "pygments_lexer": "ipython3",
   "version": "3.12.7"
  }
 },
 "nbformat": 4,
 "nbformat_minor": 2
}
